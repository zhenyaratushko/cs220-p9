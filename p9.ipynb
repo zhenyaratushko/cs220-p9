{
 "cells": [
  {
   "cell_type": "code",
   "execution_count": 1,
   "id": "2f5bc8b5",
   "metadata": {
    "cell_type": "code",
    "deletable": false,
    "editable": false
   },
   "outputs": [],
   "source": [
    "import otter\n",
    "# nb_name should be the name of your notebook without the .ipynb extension\n",
    "nb_name = \"p9\"\n",
    "py_filename = nb_name + \".py\"\n",
    "grader = otter.Notebook(nb_name + \".ipynb\")"
   ]
  },
  {
   "cell_type": "code",
   "execution_count": 2,
   "id": "e16fd978",
   "metadata": {
    "deletable": false,
    "editable": false
   },
   "outputs": [],
   "source": [
    "import p9_test"
   ]
  },
  {
   "cell_type": "code",
   "execution_count": 3,
   "id": "3d7248b5",
   "metadata": {},
   "outputs": [],
   "source": [
    "# PLEASE FILL IN THE DETAILS\n",
    "# Enter none if you don't have a project partner\n",
    "\n",
    "# project: p9\n",
    "# submitter: ratushko\n",
    "# partner: ppopuri"
   ]
  },
  {
   "cell_type": "markdown",
   "id": "43cef781",
   "metadata": {
    "deletable": false,
    "editable": false
   },
   "source": [
    "# Project 9: Analyzing the Movies"
   ]
  },
  {
   "cell_type": "markdown",
   "id": "43174132",
   "metadata": {
    "deletable": false,
    "editable": false
   },
   "source": [
    "## Learning Objectives:\n",
    "\n",
    "In this project, you will demonstrate your ability to:\n",
    "- Use `matplotlib` to plot bar graphs and visualize statistics\n",
    "- Process data using dictionaries and lists that you build\n",
    "- Implement binning by writing algorithms that create dictionaries\n",
    "- Custom sort a list using the keyword parameter `key`'s argument.\n",
    "\n",
    "Please go through [lab-p9](https://git.doit.wisc.edu/cdis/cs/courses/cs220/cs220-f22-projects/-/tree/main/lab-p9) before starting this project. The lab introduces some useful techniques necessary for this project."
   ]
  },
  {
   "cell_type": "markdown",
   "id": "2c99dead",
   "metadata": {
    "deletable": false,
    "editable": false
   },
   "source": [
    "## Note on Academic Misconduct:\n",
    "\n",
    "**IMPORTANT**: p8 and p9 are two parts of the same data analysis. You **cannot** switch project partners between these two projects. That is if you partnered up with someone for p8, you have to work on p9 with the **same partner**. Now may be a good time to review [our course policies](https://cs220.cs.wisc.edu/f22/syllabus.html)."
   ]
  },
  {
   "cell_type": "markdown",
   "id": "e697420a",
   "metadata": {
    "deletable": false,
    "editable": false
   },
   "source": [
    "## Testing your code:\n",
    "\n",
    "Along with this notebook, you must have downloaded the file `p9_test.py`. If you are curious about how we test your code, you can explore this file, and specifically the value of the variable `expected_json`, to understand the expected answers to the questions.\n",
    "\n",
    "**Important:** `p9_test.py` **cannot** verify your answers when the output is an image. Your **plots** will be **manually graded** by graders, so you must **manually** confirm that your plots look correct by comparing with the images provided in the notebook."
   ]
  },
  {
   "cell_type": "markdown",
   "id": "f2df4204",
   "metadata": {
    "deletable": false,
    "editable": false
   },
   "source": [
    "## Introduction:\n",
    "\n",
    "In p8, you created very useful helper functions to parse the raw IMDb dataset. You also created useful data structures to store the data. In this project, you will be building on the work you did in p8 to analyze your favorite movies. This is a shorter project than usual, and **p9 will only have 10 questions for you to solve**."
   ]
  },
  {
   "cell_type": "markdown",
   "id": "7bcca677",
   "metadata": {
    "deletable": false,
    "editable": false
   },
   "source": [
    "## Data:\n",
    "\n",
    "Between p8 and p9, the movies dataset has been updated to hold many more movies. The `movies.csv` file that you will use in p9 contains ~200,000 movies, and the `mapping.csv` file contains data on ~600,000 movie titles and people. Thankfully, the data in both files are stored in exactly the same format as the files you worked with in p8. So, all your functions should continue to work in p9. Please remember to download the [latest datasets](https://git.doit.wisc.edu/cdis/cs/courses/cs220/cs220-f22-projects/-/tree/main/p9) before starting this project. "
   ]
  },
  {
   "cell_type": "markdown",
   "id": "38a8ca20",
   "metadata": {
    "deletable": false,
    "editable": false
   },
   "source": [
    "## Project Requirements:\n",
    "\n",
    "You **may not** hardcode indices or the lengths of lists in your code. We'll **manually deduct** points from your autograder score on Gradescope during code review.\n",
    "\n",
    "**Store** your final answer for each question in the **variable specified for each question**. This step is important because Otter grades your work by comparing the value of this variable against the correct answer.\n",
    "\n",
    "For some of the questions, we'll ask you to write (then use) a function to compute the answer. If you compute the answer **without** creating the function we ask you to write, we'll **manually deduct** points from your autograder score on Gradescope, even if the way you did it produced the correct answer.\n",
    "\n",
    "Required Functions:\n",
    "- `get_movies`\n",
    "- `plot_dict`\n",
    "- `bucketize`\n",
    "\n",
    "In this project, you will also be required to define certain **data structures**. If you do not create these data structures exactly as specified, we'll **manually deduct** points from your autograder score on Gradescope, even if the way you did it produced the correct answer.\n",
    "\n",
    "Required Data Structures:\n",
    "- `movies`\n",
    "- `cast_buckets`\n",
    "- `director_buckets`\n",
    "- `genre_buckets`\n",
    "- `year_buckets`\n",
    "\n",
    "You are only allowed to define these data structures **once** and we'll **manually deduct** points from your autograder score on Gradescope if you redefine the values of these variables.\n",
    "\n",
    "In this project, you will be asked to create **lists** of movies. For all such questions, **unless it is explicitly mentioned otherwise**, the movies should be in the **same order** as in the `movies.csv` file. Similarly, for each movie, the **list** of `genres`, `directors`, and `cast` members should always be in the **same order** as in the `movies.csv` file.\n",
    "\n",
    "Students are only allowed to use Python commands and concepts that have been taught in the course prior to the release of p9. We will **manually deduct** points from your autograder score on Gradescope otherwise.\n",
    "\n",
    "For more details on what will cause you to lose points during code review and specific requirements, please take a look at the [Grading rubric](https://git.doit.wisc.edu/cdis/cs/courses/cs220/cs220-f22-projects/-/blob/main/p9/rubric.md)."
   ]
  },
  {
   "cell_type": "markdown",
   "id": "b65e37ae",
   "metadata": {
    "deletable": false,
    "editable": false
   },
   "source": [
    "## Project Questions and Functions:"
   ]
  },
  {
   "cell_type": "code",
   "execution_count": 4,
   "id": "f93151c9",
   "metadata": {
    "tags": []
   },
   "outputs": [],
   "source": [
    "# it is considered a good coding practice to place all import statements at the top of the notebook\n",
    "# please place all your import statements in this cell if you need to import any more modules for this project\n",
    "import csv\n",
    "import pandas\n",
    "import matplotlib"
   ]
  },
  {
   "cell_type": "markdown",
   "id": "b2d6c098",
   "metadata": {
    "deletable": false,
    "editable": false
   },
   "source": [
    "## Loading the Movies Data\n",
    "\n",
    "For all these questions, we will be looking at the movies in `mapping.csv` and `movies.csv`. You can load the list of movies using the functions you wrote in the last project."
   ]
  },
  {
   "cell_type": "markdown",
   "id": "2403d06d",
   "metadata": {
    "deletable": false,
    "editable": false
   },
   "source": [
    "Copy the functions you wrote in `p8.ipynb` to `p9.ipynb` to read the movies data. The functions you should include are `process_csv`, `get_mapping`, `get_raw_movies`, and `get_movies` along with any helper functions you used to write these. Do **not** copy/paste `find_specific_movies` here. Later in p9, we will provide you with a simpler version of that function, which does not require the use of the `copy` module."
   ]
  },
  {
   "cell_type": "code",
   "execution_count": 5,
   "id": "f13699c3",
   "metadata": {},
   "outputs": [],
   "source": [
    "def process_csv(filename):\n",
    "    example_file = open(filename, encoding=\"utf-8\")\n",
    "    example_reader = csv.reader(example_file)\n",
    "    example_data = list(example_reader)\n",
    "    example_file.close()\n",
    "    return example_data"
   ]
  },
  {
   "cell_type": "code",
   "execution_count": 6,
   "id": "39672b67",
   "metadata": {
    "tags": []
   },
   "outputs": [],
   "source": [
    "# copy/paste the definitions of get_mapping, get_raw_movies, get_movies from p8\n",
    "# as well as any helper functions used by these functions here\n",
    "map_dict = {}\n",
    "def get_mapping(path):\n",
    "    \"\"\"\n",
    "    get_mapping(path) converts a mapping csv in 'path' \n",
    "    into a dict with keys as IDs and values as names\n",
    "    \"\"\" \n",
    "    for row in process_csv(path):\n",
    "        map_dict[row[0]] = row[1]\n",
    "        \n",
    "    return map_dict"
   ]
  },
  {
   "cell_type": "code",
   "execution_count": 7,
   "id": "5313e40b",
   "metadata": {},
   "outputs": [],
   "source": [
    "def get_raw_movies(path):\n",
    "    \"\"\"\n",
    "    get_raw_movies(path) converts a movies csv in 'path' \n",
    "    into a list of dicts with column names as keys and\n",
    "    the corresponding type converted values as the values\n",
    "    \"\"\"\n",
    "    file_data = process_csv(path)\n",
    "    csv_header = file_data[0]\n",
    "    csv_rows = file_data[1:]\n",
    "    raw_movies_list = [] # use this empty list to append your dictionary\n",
    "    for row in range(len(csv_rows)):\n",
    "        movie_dict = {}\n",
    "        movie_dict[\"title\"] = csv_rows[row][csv_header.index(\"title\")]\n",
    "        movie_dict[\"year\"] = int(csv_rows[row][csv_header.index(\"year\")])\n",
    "        movie_dict[\"duration\"] = int(csv_rows[row][csv_header.index(\"duration\")])\n",
    "        movie_dict[\"genres\"] = csv_rows[row][csv_header.index(\"genres\")].split(\", \")\n",
    "        movie_dict[\"rating\"] = float(csv_rows[row][csv_header.index(\"rating\")])\n",
    "        movie_dict[\"directors\"] = csv_rows[row][csv_header.index(\"directors\")].split(\", \")\n",
    "        movie_dict[\"cast\"] = csv_rows[row][csv_header.index(\"cast\")].split(\", \")\n",
    "        raw_movies_list.append(movie_dict) # replace with your code\n",
    "        \n",
    "    return raw_movies_list"
   ]
  },
  {
   "cell_type": "code",
   "execution_count": 8,
   "id": "7e49bca6",
   "metadata": {},
   "outputs": [],
   "source": [
    "def get_movies(movies_path, mapping_path):\n",
    "    \"\"\"\n",
    "    get_movies(movies_path, mapping_path) converts a movies csv in 'movies_path' \n",
    "    into a list of dicts with column names as keys and the corresponding \n",
    "    type converted values as the values; then uses the mapping csv in 'mapping_path'\n",
    "    to replace the IDs of the titles, cast, and directors into actual names\n",
    "    \"\"\"\n",
    "    raw_movies = get_raw_movies(movies_path)\n",
    "    map_movies = get_mapping(mapping_path)\n",
    "    for movie in raw_movies:\n",
    "        movie_title_id = movie[\"title\"]\n",
    "        movie_dir_list = movie[\"directors\"]\n",
    "        movie_cast_list = movie[\"cast\"]\n",
    "        movie[\"title\"] = map_movies[movie_title_id]\n",
    "        dir_list = []\n",
    "        for dir_id in movie_dir_list:\n",
    "            dir_list.append(map_movies[dir_id])\n",
    "        movie['directors'] = dir_list\n",
    "        cast_list = []\n",
    "        for cast_id in movie_cast_list:\n",
    "            cast_list.append(map_movies[cast_id])\n",
    "        movie['cast'] = cast_list\n",
    "    return raw_movies"
   ]
  },
  {
   "cell_type": "markdown",
   "id": "8ba976bc",
   "metadata": {
    "deletable": false,
    "editable": false
   },
   "source": [
    "Now, you can use `get_movies` to read the data in `movies.csv` and `mapping.csv` as you did in p8."
   ]
  },
  {
   "cell_type": "code",
   "execution_count": 9,
   "id": "f15f6974",
   "metadata": {
    "tags": []
   },
   "outputs": [],
   "source": [
    "# create a list of dictionaries named 'movies' to store the data in 'movies.csv' and 'mapping.csv' as in p8\n",
    "# do NOT display the value of this variable anywhere in this notebook\n",
    "movies = get_movies(\"movies.csv\", \"mapping.csv\")"
   ]
  },
  {
   "cell_type": "markdown",
   "id": "7299f093",
   "metadata": {
    "deletable": false,
    "editable": false
   },
   "source": [
    "There should be *198610* **dictionaries** in the **list** `movies` and the first entry of `movies` should be a **dictionary** that looks as follows:\n",
    "\n",
    "```python\n",
    "{'title': 'Lejos de África',\n",
    " 'year': 1996,\n",
    " 'duration': 115,\n",
    " 'genres': ['Drama'],\n",
    " 'rating': 6.4,\n",
    " 'directors': ['Cecilia Bartolomé'],\n",
    " 'cast': ['Alicia Bogo', 'Xabier Elorriaga', 'Isabel Mestres', 'Carlos Cruz']}\n",
    "```\n",
    "\n",
    "**Warning:** At this stage, it is expected that the function `get_movies` works correctly, and that `movies` is defined as it was in p8. If not, your code will run into issues in p9. So, make sure that this function works properly before you start p9. You can do that by **inserting a new cell** in Jupyter below this cell and verifying that the size of your variable `movies`, and that the first **dictionary** in `movies` are as they should be. "
   ]
  },
  {
   "cell_type": "markdown",
   "id": "2b50bfa3",
   "metadata": {
    "deletable": false,
    "editable": false
   },
   "source": [
    "Now, copy over the functions `plot_dict`, `median` and `year_to_decade` from lab-p9."
   ]
  },
  {
   "cell_type": "code",
   "execution_count": 10,
   "id": "fa45134b",
   "metadata": {
    "tags": []
   },
   "outputs": [],
   "source": [
    "# copy/paste the definitions of plot_dict, median, year_to_decade from lab-p9\n",
    "# as well as any helper functions used by these functions here\n",
    "def plot_dict(d, label=\"Please Label Me!\"):\n",
    "    \"\"\"plot_dict(d, label) creates a bar plot using the \n",
    "    dictionary 'd' and labels the y-axis as 'label'\"\"\"\n",
    "    ax = pandas.Series(d).sort_index().plot.bar(color=\"black\", fontsize=16)\n",
    "    ax.set_ylabel(label, fontsize=16)"
   ]
  },
  {
   "cell_type": "code",
   "execution_count": 11,
   "id": "0243d438",
   "metadata": {},
   "outputs": [],
   "source": [
    "def median(items):\n",
    "    \"\"\"\n",
    "    median(items) returns the median of the list `items`\n",
    "    \"\"\"\n",
    "    sorted_list = sorted(items)\n",
    "    list_len = len(sorted_list)\n",
    "    if list_len % 2 == 1:\n",
    "        return sorted_list[list_len // 2]\n",
    "    else:\n",
    "        first_middle = sorted_list[list_len//2 - 1]\n",
    "        second_middle = sorted_list[list_len//2]\n",
    "        return (first_middle + second_middle) / 2"
   ]
  },
  {
   "cell_type": "code",
   "execution_count": 12,
   "id": "06ceae03",
   "metadata": {},
   "outputs": [],
   "source": [
    "def year_to_decade(year):\n",
    "    if year % 10 == 0:\n",
    "        decade = str(year-9) + ' to ' + str(year)\n",
    "        return decade\n",
    "    else:\n",
    "        return year_to_decade(year + 1)"
   ]
  },
  {
   "cell_type": "markdown",
   "id": "080fd02a",
   "metadata": {
    "deletable": false,
    "editable": false
   },
   "source": [
    "In p8, you were provided with a function `find_specific_movies` which functioned as some sort of a 'search bar' for the movies dataset. However, in order to use that function properly, you had to used the `copy` module to pass a *copy* of your list of movies to `find_specific_movies`. Making copies frequently is **not** a good coding practice. For this project, we will provide **a new version** of `find_specific_movies` that does **not** require `copy`. Please go through the following function:"
   ]
  },
  {
   "cell_type": "code",
   "execution_count": 13,
   "id": "0cb60aae",
   "metadata": {
    "deletable": false,
    "editable": false
   },
   "outputs": [],
   "source": [
    "# modified find_specific_movies (doesn't require using copy module)\n",
    "def find_specific_movies(movies, keyword):\n",
    "    \"\"\"\n",
    "    find_specific_movies(movies, keyword) takes a list of movie dictionaries \n",
    "    and a keyword; it returns a list of movies that contain the keyword\n",
    "    in either its title, genre, cast or directors.\n",
    "    \"\"\"\n",
    "    movies_with_keyword = []\n",
    "    for movie in movies:\n",
    "        if (keyword in movie['title']) or (keyword in movie['genres']) \\\n",
    "            or (keyword in movie['directors']) or (keyword in movie['cast']):\n",
    "            movies_with_keyword.append(movie)\n",
    "    return movies_with_keyword"
   ]
  },
  {
   "cell_type": "markdown",
   "id": "e8e126f1",
   "metadata": {
    "deletable": false,
    "editable": false
   },
   "source": [
    "**Important:** Even when you are not explicitly prompted to do so, using the `find_specific_movies` function cleverly can simplify your code significantly. Keep an eye out for how you can simplify your code by making use of `find_specific_movies`."
   ]
  },
  {
   "cell_type": "markdown",
   "id": "06c7f534",
   "metadata": {
    "deletable": false,
    "editable": false
   },
   "source": [
    "### Analyzing the Movies data"
   ]
  },
  {
   "cell_type": "markdown",
   "id": "ce67f948",
   "metadata": {
    "deletable": false,
    "editable": false
   },
   "source": [
    "**Question 1:** What is the **median** `rating` of the *Harry Potter* movies directed by *David Yates*?\n",
    "\n",
    "You **must** consider movies which have *Harry Potter* as a substring of the `title` **and** also have *David Yates* as one of the `directors`."
   ]
  },
  {
   "cell_type": "code",
   "execution_count": 14,
   "id": "658216e4",
   "metadata": {
    "tags": []
   },
   "outputs": [
    {
     "data": {
      "text/plain": [
       "7.65"
      ]
     },
     "execution_count": 14,
     "metadata": {},
     "output_type": "execute_result"
    }
   ],
   "source": [
    "# compute and store the answer in the variable 'median_hp_rating', then display it\n",
    "hp_movies = find_specific_movies(movies, \"Harry Potter\")\n",
    "david_yates_movies = find_specific_movies(hp_movies, \"David Yates\")\n",
    "movie_ratings = [movie['rating'] for movie in david_yates_movies]\n",
    "    \n",
    "median_hp_rating = median(movie_ratings)\n",
    "median_hp_rating"
   ]
  },
  {
   "cell_type": "code",
   "execution_count": 15,
   "id": "e3b42aab",
   "metadata": {
    "deletable": false,
    "editable": false
   },
   "outputs": [
    {
     "data": {
      "text/html": [
       "<p><strong><pre style='display: inline;'>q1</pre></strong> passed!</p>"
      ],
      "text/plain": [
       "q1 results: All test cases passed!"
      ]
     },
     "execution_count": 15,
     "metadata": {},
     "output_type": "execute_result"
    }
   ],
   "source": [
    "grader.check(\"q1\")"
   ]
  },
  {
   "cell_type": "markdown",
   "id": "be310fb6",
   "metadata": {
    "deletable": false,
    "editable": false
   },
   "source": [
    "**Question 2:** Among all the *Avengers* movies, which ones are the **highest** rated?\n",
    "\n",
    "Your output **must** be a **list** of **dictionaries**. You **must** consider all movies which have *Avengers* as a substring of their `title`.\n",
    "\n",
    "**Hint:** You could first find the **highest** `rating` that any *Avengers* movie received, and then find all the *Avengers* movies that received that `rating`."
   ]
  },
  {
   "cell_type": "code",
   "execution_count": 16,
   "id": "8f299dce",
   "metadata": {
    "tags": []
   },
   "outputs": [
    {
     "data": {
      "text/plain": [
       "[{'title': 'Avengers: Endgame',\n",
       "  'year': 2019,\n",
       "  'duration': 181,\n",
       "  'genres': ['Action', 'Adventure', 'Drama'],\n",
       "  'rating': 8.4,\n",
       "  'directors': ['Anthony Russo', 'Joe Russo'],\n",
       "  'cast': ['Robert Downey Jr.',\n",
       "   'Chris Evans',\n",
       "   'Mark Ruffalo',\n",
       "   'Chris Hemsworth']},\n",
       " {'title': 'Avengers: Infinity War',\n",
       "  'year': 2018,\n",
       "  'duration': 149,\n",
       "  'genres': ['Action', 'Adventure', 'Sci-Fi'],\n",
       "  'rating': 8.4,\n",
       "  'directors': ['Anthony Russo', 'Joe Russo'],\n",
       "  'cast': ['Robert Downey Jr.',\n",
       "   'Chris Hemsworth',\n",
       "   'Mark Ruffalo',\n",
       "   'Chris Evans']}]"
      ]
     },
     "execution_count": 16,
     "metadata": {},
     "output_type": "execute_result"
    }
   ],
   "source": [
    "# compute and store the answer in the variable 'highest_rated_avengers_movies', then display it\n",
    "highest_avenger_rating = None\n",
    "avenger_movies = find_specific_movies(movies, \"Avengers\")\n",
    "\n",
    "for movie in avenger_movies:\n",
    "    avenger_rating = movie[\"rating\"]\n",
    "    if highest_avenger_rating == None or avenger_rating > highest_avenger_rating:\n",
    "        highest_avenger_rating = avenger_rating\n",
    "\n",
    "highest_rated_avengers_movies = []\n",
    "for movie in avenger_movies:\n",
    "    if movie[\"rating\"] == highest_avenger_rating:\n",
    "        highest_rated_avengers_movies.append(movie)\n",
    "    \n",
    "highest_rated_avengers_movies"
   ]
  },
  {
   "cell_type": "code",
   "execution_count": 17,
   "id": "0e8ca02b",
   "metadata": {
    "deletable": false,
    "editable": false
   },
   "outputs": [
    {
     "data": {
      "text/html": [
       "<p><strong><pre style='display: inline;'>q2</pre></strong> passed!</p>"
      ],
      "text/plain": [
       "q2 results: All test cases passed!"
      ]
     },
     "execution_count": 17,
     "metadata": {},
     "output_type": "execute_result"
    }
   ],
   "source": [
    "grader.check(\"q2\")"
   ]
  },
  {
   "cell_type": "markdown",
   "id": "5706252b",
   "metadata": {
    "deletable": false,
    "editable": false
   },
   "source": [
    "### Function 1: `bucketize(movies_list, category)` \n",
    "\n",
    "This function should take in a **list** of movie **dictionaries** as well as a **category** (i.e. `title`, `year`, `duration`, `genres`, `rating`, `directors`, or `cast`), and *bucketize* the **list** of movie **dictionaries** by this **category**.\n",
    "\n",
    "For example, the output of `bucketize(movies, 'rating')` should be a **dictionary** so that all the unique values of `rating` of the movies in `movies` are the **keys** and the correspoding **values** would be a **list** of all movie **dictionaries** with that rating (e.g., the value of the key *6.4* should be the **list** of movie dictionaries with `rating` of *6.4*).\n",
    "\n",
    "The output of `bucketize(movies, 'rating')` should look like this:\n",
    "\n",
    "```python\n",
    "{6.4: [{'title': 'Lejos de África',\n",
    "   'year': 1996,\n",
    "   'duration': 115,\n",
    "   'genres': ['Drama'],\n",
    "   'rating': 6.4,\n",
    "   'directors': ['Cecilia Bartolomé'],\n",
    "   'cast': ['Alicia Bogo',\n",
    "    'Xabier Elorriaga',\n",
    "    'Isabel Mestres',\n",
    "    'Carlos Cruz']},\n",
    "  {'title': 'Kobbari Bondam',\n",
    "   'year': 1991,\n",
    "   'duration': 149,\n",
    "   'genres': ['Comedy'],\n",
    "   'rating': 6.4,\n",
    "   'directors': ['Raviteja K.'],\n",
    "   'cast': ['Rajendra Prasad', 'Nirosha', 'Sudhakar', 'Kota Srinivasa Rao']},\n",
    "       ...\n",
    "      ],\n",
    " 2.1: [{'title': 'Amityville Cult',\n",
    "  'year': 2021,\n",
    "  'duration': 85,\n",
    "  'genres': ['Horror'],\n",
    "  'rating': 2.1,\n",
    "  'directors': ['Trey Murphy'],\n",
    "  'cast': ['James Burleson',\n",
    "   'Chance Gibbs',\n",
    "   'Micha Marie Stevens',\n",
    "   'Tom Young',\n",
    "   'Patrick McAlister',\n",
    "   'Eric Oberto',\n",
    "   'Lara Williams']},\n",
    " {'title': 'Jungle Goddess',\n",
    "  'year': 1948,\n",
    "  'duration': 62,\n",
    "  'genres': ['Action', 'Adventure', 'Crime'],\n",
    "  'rating': 2.1,\n",
    "  'directors': ['Lewis D. Collins'],\n",
    "  'cast': ['George Reeves', 'Wanda McKay', 'Ralph Byrd', 'Armida']},\n",
    "       ...\n",
    "      ],\n",
    " ...\n",
    "}\n",
    "```\n",
    "\n",
    "Similarly, the output of `bucketize(movies, 'cast')` should be a **dictionary** so that all the unique `cast` members of the movies in `movies` are the **keys** and the correspoding **values** would be a **list** of all movie **dictionaries** with that cast member as one of their `cast` (e.g., the value of the key *Kate Winslet* should be the **list** of movie dictionaries with *Kate Winslet* as one of their `cast` members).\n",
    "\n",
    "The output of `bucketize(movies, 'cast')` should look like this:\n",
    "\n",
    "```python\n",
    "{'Alicia Bogo': [{'title': 'Lejos de África',\n",
    "   'year': 1996,\n",
    "   'duration': 115,\n",
    "   'genres': ['Drama'],\n",
    "   'rating': 6.4,\n",
    "   'directors': ['Cecilia Bartolomé'],\n",
    "   'cast': ['Alicia Bogo',\n",
    "    'Xabier Elorriaga',\n",
    "    'Isabel Mestres',\n",
    "    'Carlos Cruz']}],\n",
    " 'Xabier Elorriaga': [{'title': 'Lejos de África',\n",
    "   'year': 1996,\n",
    "   'duration': 115,\n",
    "   'genres': ['Drama'],\n",
    "   'rating': 6.4,\n",
    "   'directors': ['Cecilia Bartolomé'],\n",
    "   'cast': ['Alicia Bogo',\n",
    "    'Xabier Elorriaga',\n",
    "    'Isabel Mestres',\n",
    "    'Carlos Cruz']},\n",
    "  {'title': 'Companys, procés a Catalunya',\n",
    "   'year': 1979,\n",
    "   'duration': 125,\n",
    "   'genres': ['Biography', 'Drama', 'History'],\n",
    "   'rating': 6.2,\n",
    "   'directors': ['Josep Maria Forn'],\n",
    "   'cast': ['Luis Iriondo',\n",
    "    'Marta Angelat',\n",
    "    'Montserrat Carulla',\n",
    "    'Xabier Elorriaga']},\n",
    "     ...\n",
    "    ],\n",
    " ...\n",
    "}\n",
    "```\n",
    "\n",
    "**Hints:** Note that depending on whether or not the `category` represents a **list** or not, your function will have to behave differently. In p8, you created a function `bucketize_by_genre` that *bucketized* the list of movies by their genre. Take a moment to find that function; it will help you here. Also, take a moment to look at the buckets you made in lab-p9."
   ]
  },
  {
   "cell_type": "code",
   "execution_count": 18,
   "id": "232c05e7",
   "metadata": {
    "tags": []
   },
   "outputs": [],
   "source": [
    "# replace the ... with your code to finish the definition of bucketize\n",
    "\n",
    "def bucketize(movie_list, category):\n",
    "    buckets = {}\n",
    "    for movie in movie_list:\n",
    "        category_value = movie[category] #TODO: Access the category value from a movie\n",
    "        if type(category_value) == list:\n",
    "            for item in category_value:\n",
    "                if item not in buckets:\n",
    "                    buckets[item] = []\n",
    "                buckets[item].append(movie)\n",
    "        else:\n",
    "            if category_value not in buckets:\n",
    "                buckets[category_value] = []\n",
    "            buckets[category_value].append(movie)\n",
    "    return buckets"
   ]
  },
  {
   "cell_type": "markdown",
   "id": "6aef85d3",
   "metadata": {
    "deletable": false,
    "editable": false
   },
   "source": [
    "**Important:** Just like `get_movies`, `bucketize` is quite a time-consuming function to run. Hence, you do **not** want to call `bucketize` on the same list of movies and category **more than once**. Throughout the project, we will frequently use bucketized lists of movies organized by their `cast`, `directors`, `genre`, and `year`. Rather than calling `bucketize` several times, we will store the bucketized lists in following variables:"
   ]
  },
  {
   "cell_type": "code",
   "execution_count": 19,
   "id": "42ff40a8",
   "metadata": {
    "tags": []
   },
   "outputs": [],
   "source": [
    "# define buckets for categories mentioned below, but do NOT display any of them\n",
    "\n",
    "# bucketize the full list of movies by their cast.\n",
    "cast_buckets = bucketize(movies, \"cast\")\n",
    "# bucketize the full list of movies by their directors.\n",
    "director_buckets = bucketize(movies, \"directors\")\n",
    "# bucketize the full list of movies by their genre.\n",
    "genre_buckets = bucketize(movies, \"genres\")\n",
    "# bucketize the full list of movies by their year.\n",
    "year_buckets = bucketize(movies, \"year\")\n"
   ]
  },
  {
   "cell_type": "markdown",
   "id": "03aa2905",
   "metadata": {
    "deletable": false,
    "editable": false
   },
   "source": [
    "Even when you are not explicitly prompted to do so, using these data structures and the `bucketize` function cleverly can simplify your code significantly. Keep an eye out for how you can simplify your code by making use of these data structures and the `bucketize` function."
   ]
  },
  {
   "cell_type": "markdown",
   "id": "b5fd3889",
   "metadata": {
    "deletable": false,
    "editable": false
   },
   "source": [
    "**Question 3:** List the movies that *Viola Davis* was `cast` in?\n",
    "\n",
    "Your output **must** be a **list** of **dictionaries**. You **must** answer this question by accessing the **value** of the correct **key** from the correct **bucket** defined in the previous cell."
   ]
  },
  {
   "cell_type": "code",
   "execution_count": 20,
   "id": "c66ac530",
   "metadata": {
    "tags": []
   },
   "outputs": [
    {
     "data": {
      "text/plain": [
       "[{'title': 'Eat Pray Love',\n",
       "  'year': 2010,\n",
       "  'duration': 133,\n",
       "  'genres': ['Biography', 'Drama', 'Romance'],\n",
       "  'rating': 5.8,\n",
       "  'directors': ['Ryan Murphy'],\n",
       "  'cast': ['Julia Roberts',\n",
       "   'Javier Bardem',\n",
       "   'Richard Jenkins',\n",
       "   'Viola Davis']},\n",
       " {'title': \"Won't Back Down\",\n",
       "  'year': 2012,\n",
       "  'duration': 121,\n",
       "  'genres': ['Drama'],\n",
       "  'rating': 6.4,\n",
       "  'directors': ['Daniel Barnz'],\n",
       "  'cast': ['Viola Davis', 'Maggie Gyllenhaal', 'Holly Hunter', 'Oscar Isaac']},\n",
       " {'title': 'Get on Up',\n",
       "  'year': 2014,\n",
       "  'duration': 139,\n",
       "  'genres': ['Biography', 'Drama', 'Music'],\n",
       "  'rating': 6.9,\n",
       "  'directors': ['Tate Taylor'],\n",
       "  'cast': ['Chadwick Boseman', 'Nelsan Ellis', 'Dan Aykroyd', 'Viola Davis']},\n",
       " {'title': 'The Disappearance of Eleanor Rigby: Them',\n",
       "  'year': 2014,\n",
       "  'duration': 123,\n",
       "  'genres': ['Drama', 'Romance'],\n",
       "  'rating': 6.3,\n",
       "  'directors': ['Ned Benson'],\n",
       "  'cast': ['James McAvoy', 'Jessica Chastain', 'Viola Davis', 'Bill Hader']},\n",
       " {'title': 'Suicide Squad',\n",
       "  'year': 2016,\n",
       "  'duration': 123,\n",
       "  'genres': ['Action', 'Adventure', 'Fantasy'],\n",
       "  'rating': 5.9,\n",
       "  'directors': ['David Ayer'],\n",
       "  'cast': ['Will Smith', 'Jared Leto', 'Margot Robbie', 'Viola Davis']},\n",
       " {'title': 'Blackhat',\n",
       "  'year': 2015,\n",
       "  'duration': 133,\n",
       "  'genres': ['Action', 'Crime', 'Thriller'],\n",
       "  'rating': 5.4,\n",
       "  'directors': ['Michael Mann'],\n",
       "  'cast': ['Chris Hemsworth', 'Viola Davis', 'Leehom Wang']},\n",
       " {'title': 'Widows',\n",
       "  'year': 2018,\n",
       "  'duration': 129,\n",
       "  'genres': ['Crime', 'Drama', 'Thriller'],\n",
       "  'rating': 6.8,\n",
       "  'directors': ['Steve McQueen'],\n",
       "  'cast': ['Viola Davis', 'Michelle Rodriguez', 'Elizabeth Debicki']},\n",
       " {'title': 'The Woman King',\n",
       "  'year': 2022,\n",
       "  'duration': 135,\n",
       "  'genres': ['Action', 'Drama', 'History'],\n",
       "  'rating': 6.8,\n",
       "  'directors': ['Gina Prince-Bythewood'],\n",
       "  'cast': ['Viola Davis', 'Thuso Mbedu', 'Sheila Atim']},\n",
       " {'title': 'Black Theater Today: 2005',\n",
       "  'year': 2005,\n",
       "  'duration': 60,\n",
       "  'genres': ['Documentary', 'Family'],\n",
       "  'rating': 6.1,\n",
       "  'directors': ['Thea Marie Perkins'],\n",
       "  'cast': ['Virginia Capers', 'Keith David', 'Viola Davis', 'Richard Gant']},\n",
       " {'title': \"Ma Rainey's Black Bottom\",\n",
       "  'year': 2020,\n",
       "  'duration': 94,\n",
       "  'genres': ['Drama', 'Music'],\n",
       "  'rating': 6.9,\n",
       "  'directors': ['George C. Wolfe'],\n",
       "  'cast': ['Viola Davis',\n",
       "   'Chadwick Boseman',\n",
       "   'Glynn Turman',\n",
       "   'Colman Domingo']},\n",
       " {'title': 'Troop Zero',\n",
       "  'year': 2019,\n",
       "  'duration': 94,\n",
       "  'genres': ['Comedy', 'Drama', 'Family'],\n",
       "  'rating': 6.8,\n",
       "  'directors': ['Bert', 'Bertie'],\n",
       "  'cast': ['Mckenna Grace', 'Viola Davis', 'Jim Gaffigan', 'Allison Janney']},\n",
       " {'title': 'The Architect',\n",
       "  'year': 2006,\n",
       "  'duration': 82,\n",
       "  'genres': ['Crime', 'Drama', 'Romance'],\n",
       "  'rating': 5.5,\n",
       "  'directors': ['Matt Tauber'],\n",
       "  'cast': ['Anthony LaPaglia',\n",
       "   'Viola Davis',\n",
       "   'Isabella Rossellini',\n",
       "   'Hayden Panettiere']},\n",
       " {'title': 'Nights in Rodanthe',\n",
       "  'year': 2008,\n",
       "  'duration': 97,\n",
       "  'genres': ['Drama', 'Romance'],\n",
       "  'rating': 6.0,\n",
       "  'directors': ['George C. Wolfe'],\n",
       "  'cast': ['Diane Lane', 'Richard Gere', 'Christopher Meloni', 'Viola Davis']},\n",
       " {'title': 'Custody',\n",
       "  'year': 2016,\n",
       "  'duration': 104,\n",
       "  'genres': ['Drama'],\n",
       "  'rating': 6.5,\n",
       "  'directors': ['James Lapine'],\n",
       "  'cast': ['Viola Davis',\n",
       "   'Hayden Panettiere',\n",
       "   'Catalina Sandino Moreno',\n",
       "   'Tony Shalhoub']},\n",
       " {'title': 'The Unforgivable',\n",
       "  'year': 2021,\n",
       "  'duration': 112,\n",
       "  'genres': ['Crime', 'Drama'],\n",
       "  'rating': 7.1,\n",
       "  'directors': ['Nora Fingscheidt'],\n",
       "  'cast': ['Sandra Bullock',\n",
       "   'Viola Davis',\n",
       "   \"Vincent D'Onofrio\",\n",
       "   'Jon Bernthal']},\n",
       " {'title': 'Prisoners',\n",
       "  'year': 2013,\n",
       "  'duration': 153,\n",
       "  'genres': ['Crime', 'Drama', 'Mystery'],\n",
       "  'rating': 8.1,\n",
       "  'directors': ['Denis Villeneuve'],\n",
       "  'cast': ['Hugh Jackman', 'Jake Gyllenhaal', 'Viola Davis', 'Melissa Leo']},\n",
       " {'title': 'The Help',\n",
       "  'year': 2011,\n",
       "  'duration': 146,\n",
       "  'genres': ['Drama'],\n",
       "  'rating': 8.1,\n",
       "  'directors': ['Tate Taylor'],\n",
       "  'cast': ['Viola Davis',\n",
       "   'Emma Stone',\n",
       "   'Octavia Spencer',\n",
       "   'Bryce Dallas Howard']},\n",
       " {'title': 'Beautiful Creatures',\n",
       "  'year': 2013,\n",
       "  'duration': 124,\n",
       "  'genres': ['Drama', 'Fantasy', 'Romance'],\n",
       "  'rating': 6.1,\n",
       "  'directors': ['Richard LaGravenese'],\n",
       "  'cast': ['Alice Englert',\n",
       "   'Viola Davis',\n",
       "   'Emma Thompson',\n",
       "   'Alden Ehrenreich']},\n",
       " {'title': 'Lila & Eve',\n",
       "  'year': 2015,\n",
       "  'duration': 94,\n",
       "  'genres': ['Crime', 'Drama', 'Thriller'],\n",
       "  'rating': 5.8,\n",
       "  'directors': ['Charles Stone III'],\n",
       "  'cast': ['Viola Davis', 'Aml Ameen', 'Ron Caldwell', 'Yolonda Ross']},\n",
       " {'title': 'The Disappearance of Eleanor Rigby: Her',\n",
       "  'year': 2013,\n",
       "  'duration': 100,\n",
       "  'genres': ['Drama', 'Romance'],\n",
       "  'rating': 6.9,\n",
       "  'directors': ['Ned Benson'],\n",
       "  'cast': ['Jessica Chastain', 'James McAvoy', 'Nina Arianda', 'Viola Davis']},\n",
       " {'title': 'The Disappearance of Eleanor Rigby: Him',\n",
       "  'year': 2013,\n",
       "  'duration': 89,\n",
       "  'genres': ['Drama', 'Romance'],\n",
       "  'rating': 6.8,\n",
       "  'directors': ['Ned Benson'],\n",
       "  'cast': ['James McAvoy', 'Jessica Chastain', 'Nina Arianda', 'Viola Davis']},\n",
       " {'title': 'Solaris',\n",
       "  'year': 2002,\n",
       "  'duration': 99,\n",
       "  'genres': ['Drama', 'Mystery', 'Romance'],\n",
       "  'rating': 6.2,\n",
       "  'directors': ['Steven Soderbergh'],\n",
       "  'cast': ['George Clooney',\n",
       "   'Natascha McElhone',\n",
       "   'Ulrich Tukur',\n",
       "   'Viola Davis']},\n",
       " {'title': 'Beyond Babyland',\n",
       "  'year': 2010,\n",
       "  'duration': 56,\n",
       "  'genres': ['Documentary'],\n",
       "  'rating': 4.9,\n",
       "  'directors': ['David Appleby', 'Craig Leake'],\n",
       "  'cast': ['Viola Davis']},\n",
       " {'title': 'Doubt',\n",
       "  'year': 2008,\n",
       "  'duration': 104,\n",
       "  'genres': ['Drama', 'Mystery'],\n",
       "  'rating': 7.5,\n",
       "  'directors': ['John Patrick Shanley'],\n",
       "  'cast': ['Meryl Streep',\n",
       "   'Philip Seymour Hoffman',\n",
       "   'Amy Adams',\n",
       "   'Viola Davis']}]"
      ]
     },
     "execution_count": 20,
     "metadata": {},
     "output_type": "execute_result"
    }
   ],
   "source": [
    "# compute and store the answer in the variable 'viola_movies', then display it\n",
    "viola_movies = cast_buckets[\"Viola Davis\"]\n",
    "viola_movies"
   ]
  },
  {
   "cell_type": "code",
   "execution_count": 21,
   "id": "52c45d1a",
   "metadata": {
    "deletable": false,
    "editable": false
   },
   "outputs": [
    {
     "data": {
      "text/html": [
       "<p><strong><pre style='display: inline;'>q3</pre></strong> passed!</p>"
      ],
      "text/plain": [
       "q3 results: All test cases passed!"
      ]
     },
     "execution_count": 21,
     "metadata": {},
     "output_type": "execute_result"
    }
   ],
   "source": [
    "grader.check(\"q3\")"
   ]
  },
  {
   "attachments": {
    "num_genres.PNG": {
     "image/png": "[encoded data removed]"
    }
   },
   "cell_type": "markdown",
   "id": "40f47424",
   "metadata": {
    "deletable": false,
    "editable": false
   },
   "source": [
    "**Question 4:** **Plot** the **number** of movies in each *genre* as a **bar graph**.\n",
    "\n",
    "You **must** first compute a **dictionary** which maps each **genre** to the **number** of movies in that **genre**. Then, you may use `plot_dict` to plot the data in that dictionary.\n",
    "\n",
    "**Important Warning:** `p9_test.py` can check that the **dictionary** has the correct key/value pairs, but it **cannot** check if your plot appears on the screen, or whether the axes are correctly labelled. Your plots will be **manually graded**, and you will **lose points** if your plot is not visible, or if it is not properly labelled.\n",
    "\n",
    "Your plot should look like this:\n",
    "<div><img src=\"attachment:num_genres.PNG\" width=\"400\"/></div>"
   ]
  },
  {
   "cell_type": "code",
   "execution_count": 22,
   "id": "a70fb5aa",
   "metadata": {
    "tags": []
   },
   "outputs": [
    {
     "data": {
      "text/plain": [
       "{'Drama': 106162,\n",
       " 'Horror': 16606,\n",
       " 'Sport': 2157,\n",
       " 'Family': 8993,\n",
       " 'Comedy': 57265,\n",
       " 'Adventure': 14666,\n",
       " 'Thriller': 20144,\n",
       " 'Crime': 20655,\n",
       " 'Action': 23495,\n",
       " 'Fantasy': 7038,\n",
       " 'History': 5183,\n",
       " 'Romance': 26780,\n",
       " 'Biography': 4946,\n",
       " 'Sci-Fi': 5677,\n",
       " 'Mystery': 9397,\n",
       " 'Documentary': 10038,\n",
       " 'Western': 4595,\n",
       " 'Musical': 5198,\n",
       " 'Animation': 3780,\n",
       " 'Music': 4002,\n",
       " 'War': 4873,\n",
       " 'News': 152,\n",
       " 'Film-Noir': 818,\n",
       " 'Short': 12,\n",
       " 'Reality-TV': 17,\n",
       " 'Game-Show': 1,\n",
       " 'Talk-Show': 1}"
      ]
     },
     "execution_count": 22,
     "metadata": {},
     "output_type": "execute_result"
    }
   ],
   "source": [
    "# first compute and store the dictionary in the variable 'genre_num', then display it\n",
    "genre_num = {}\n",
    "for genre in genre_buckets:\n",
    "    genre_count = len(genre_buckets[genre])\n",
    "    genre_num[genre] = genre_count\n",
    "    \n",
    "genre_num"
   ]
  },
  {
   "cell_type": "code",
   "execution_count": 23,
   "id": "16a0c55b",
   "metadata": {
    "tags": []
   },
   "outputs": [
    {
     "data": {
      "image/png": "[encoded data removed]",
      "text/plain": [
       "<Figure size 432x288 with 1 Axes>"
      ]
     },
     "metadata": {
      "needs_background": "light"
     },
     "output_type": "display_data"
    }
   ],
   "source": [
    "# now plot 'genre_num' with the y-axis labelled 'number of movies'\n",
    "\n",
    "plot_dict(genre_num, label=\"number of movies\")"
   ]
  },
  {
   "cell_type": "code",
   "execution_count": 24,
   "id": "98a7c468",
   "metadata": {
    "deletable": false,
    "editable": false
   },
   "outputs": [
    {
     "data": {
      "text/html": [
       "<p><strong><pre style='display: inline;'>q4</pre></strong> passed!</p>"
      ],
      "text/plain": [
       "q4 results: All test cases passed!"
      ]
     },
     "execution_count": 24,
     "metadata": {},
     "output_type": "execute_result"
    }
   ],
   "source": [
    "grader.check(\"q4\")"
   ]
  },
  {
   "cell_type": "markdown",
   "id": "b8013dd2",
   "metadata": {
    "deletable": false,
    "editable": false
   },
   "source": [
    "**Food for thought:** Can you tell what the most popular **genres** are from the plot? Do you see anything surprising here?"
   ]
  },
  {
   "cell_type": "code",
   "execution_count": 25,
   "id": "ad8abe06",
   "metadata": {},
   "outputs": [],
   "source": [
    "# this is an entirely OPTIONAL exercise\n",
    "# you may leave your thoughts here as a comment if you wish to\n",
    "# Zhenya and Pranu's thoughts: The most popular movie genres are drama, comedy, and romance :D"
   ]
  },
  {
   "attachments": {
    "kurosawa_films.PNG": {
     "image/png": "[encoded data removed]"
    }
   },
   "cell_type": "markdown",
   "id": "eeb5d212",
   "metadata": {
    "deletable": false,
    "editable": false
   },
   "source": [
    "**Question 5:** **Plot** the **number** of movies **directed** by *Akira Kurosawa* in each *genre* as a **bar graph**.\n",
    "\n",
    "You **must** only include those `genres` in which *Akira Kurosawa* has directed **at least** one movie, in your plot.\n",
    "\n",
    "You **must** first compute a **dictionary** which maps each **genre** to the **number** of movies in that **genre** directed by *Akira Kurosawa*. Then, you may use `plot_dict` to plot the data in that dictionary.\n",
    "\n",
    "**Important Warning:** `p9_test.py` can check that the **dictionary** has the correct key/value pairs, but it **cannot** check if your plot appears on the screen, or whether the axes are correctly labelled. Your plots will be **manually graded**, and you will **lose points** if your plot is not visible, or if it is not properly labelled.\n",
    "\n",
    "Your plot should look like this:\n",
    "<div><img src=\"attachment:kurosawa_films.PNG\" width=\"400\"/></div>"
   ]
  },
  {
   "cell_type": "code",
   "execution_count": 26,
   "id": "d5a43380",
   "metadata": {
    "tags": []
   },
   "outputs": [
    {
     "data": {
      "text/plain": [
       "{'Action': 8,\n",
       " 'Drama': 32,\n",
       " 'War': 2,\n",
       " 'Thriller': 4,\n",
       " 'Adventure': 5,\n",
       " 'Fantasy': 1,\n",
       " 'Biography': 1,\n",
       " 'History': 3,\n",
       " 'Crime': 5,\n",
       " 'Mystery': 2,\n",
       " 'Film-Noir': 1,\n",
       " 'Romance': 3}"
      ]
     },
     "execution_count": 26,
     "metadata": {},
     "output_type": "execute_result"
    }
   ],
   "source": [
    "# first compute and store the dictionary in the variable 'kurosawa_genres', then display it\n",
    "kurosawa_movies = find_specific_movies(movies, \"Akira Kurosawa\")\n",
    "kurosawa_buckets = bucketize(kurosawa_movies, \"genres\")\n",
    "kurosawa_genres = {}\n",
    "\n",
    "for genre in kurosawa_buckets:\n",
    "    movie_count = len(kurosawa_buckets[genre])\n",
    "    kurosawa_genres[genre] = movie_count\n",
    "    \n",
    "kurosawa_genres"
   ]
  },
  {
   "cell_type": "code",
   "execution_count": 27,
   "id": "4458b02e",
   "metadata": {
    "tags": []
   },
   "outputs": [
    {
     "data": {
      "image/png": "[encoded data removed]",
      "text/plain": [
       "<Figure size 432x288 with 1 Axes>"
      ]
     },
     "metadata": {
      "needs_background": "light"
     },
     "output_type": "display_data"
    }
   ],
   "source": [
    "# now plot 'kurosawa_genres' with the y-axis labelled 'number of movies'\n",
    "plot_dict(kurosawa_genres, label=\"number of movies\")"
   ]
  },
  {
   "cell_type": "code",
   "execution_count": 28,
   "id": "d3d973ec",
   "metadata": {
    "deletable": false,
    "editable": false
   },
   "outputs": [
    {
     "data": {
      "text/html": [
       "<p><strong><pre style='display: inline;'>q5</pre></strong> passed!</p>"
      ],
      "text/plain": [
       "q5 results: All test cases passed!"
      ]
     },
     "execution_count": 28,
     "metadata": {},
     "output_type": "execute_result"
    }
   ],
   "source": [
    "grader.check(\"q5\")"
   ]
  },
  {
   "cell_type": "markdown",
   "id": "72839702",
   "metadata": {
    "deletable": false,
    "editable": false
   },
   "source": [
    "**Food for thought:** Can you similarly **plot** the **number** of films directed by your favorite director or starring your favorite cast member in each **genre**?"
   ]
  },
  {
   "cell_type": "code",
   "execution_count": 29,
   "id": "df5d0e10",
   "metadata": {},
   "outputs": [],
   "source": [
    "# this is an entirely OPTIONAL exercise\n",
    "# you may leave your thoughts here as a comment if you wish to\n",
    "# Zhenya and Pranu's thoughts: Yes, that is possible"
   ]
  },
  {
   "attachments": {
    "num_decade.PNG": {
     "image/png": "[encoded data removed]"
    }
   },
   "cell_type": "markdown",
   "id": "dee034ef",
   "metadata": {
    "deletable": false,
    "editable": false
   },
   "source": [
    "**Question 6:** **Plot** the **number** of movies released in each *decade* as a **bar graph**.\n",
    "\n",
    "You **must** first compute a **dictionary** which maps each **decade** to the **number** of movies in released in that **decade**. This dictionary should look like this:\n",
    "\n",
    "```python\n",
    "{'1991 to 2000': 18496,\n",
    " '2021 to 2030': 9173,\n",
    " '1961 to 1970': 14216,\n",
    " '1951 to 1960': 10981,\n",
    " '2011 to 2020': 59249,\n",
    " '2001 to 2010': 33658,\n",
    " '1941 to 1950': 7807,\n",
    " '1971 to 1980': 15556,\n",
    " '1981 to 1990': 17181,\n",
    " '1921 to 1930': 3014,\n",
    " '1931 to 1940': 8201,\n",
    " '1911 to 1920': 1068,\n",
    " '1901 to 1910': 9,\n",
    " '1891 to 1900': 1}\n",
    "```\n",
    "\n",
    "Then, you may use `plot_dict` to plot the data in that dictionary.\n",
    "\n",
    "**Important Warning:** `p9_test.py` can check that the **dictionary** has the correct key/value pairs, but it **cannot** check if your plot appears on the screen, or whether the axes are correctly labelled. Your plots will be **manually graded**, and you will **lose points** if your plot is not visible, or if it is not properly labelled.\n",
    "\n",
    "Your plot should look like this:\n",
    "<div><img src=\"attachment:num_decade.PNG\" width=\"400\"/></div>"
   ]
  },
  {
   "cell_type": "code",
   "execution_count": 30,
   "id": "57ed7bb1",
   "metadata": {
    "tags": []
   },
   "outputs": [
    {
     "data": {
      "text/plain": [
       "{'1991 to 2000': 18496,\n",
       " '2021 to 2030': 9173,\n",
       " '1961 to 1970': 14216,\n",
       " '1951 to 1960': 10981,\n",
       " '2011 to 2020': 59249,\n",
       " '2001 to 2010': 33658,\n",
       " '1941 to 1950': 7807,\n",
       " '1971 to 1980': 15556,\n",
       " '1981 to 1990': 17181,\n",
       " '1921 to 1930': 3014,\n",
       " '1931 to 1940': 8201,\n",
       " '1911 to 1920': 1068,\n",
       " '1901 to 1910': 9,\n",
       " '1891 to 1900': 1}"
      ]
     },
     "execution_count": 30,
     "metadata": {},
     "output_type": "execute_result"
    }
   ],
   "source": [
    "# first compute and store the dictionary in the variable 'decade_mapping', then display it\n",
    "year_num = {}\n",
    "for year in year_buckets:\n",
    "    year_count = len(year_buckets[year])\n",
    "    year_num[year] = year_count\n",
    "    \n",
    "decade_buckets = {}\n",
    "for year in year_num:\n",
    "    decade = year_to_decade(year)\n",
    "    if decade not in decade_buckets:\n",
    "        decade_buckets[decade] = []\n",
    "    (decade_buckets[decade]).append(year_num[year])\n",
    "\n",
    "decade_mapping = {}\n",
    "for decade in decade_buckets:\n",
    "    decade_count = sum(decade_buckets[decade])\n",
    "    decade_mapping[decade] = decade_count\n",
    "    \n",
    "decade_mapping"
   ]
  },
  {
   "cell_type": "code",
   "execution_count": 31,
   "id": "6f53eda7",
   "metadata": {
    "tags": []
   },
   "outputs": [
    {
     "data": {
      "image/png": "[encoded data removed]",
      "text/plain": [
       "<Figure size 432x288 with 1 Axes>"
      ]
     },
     "metadata": {
      "needs_background": "light"
     },
     "output_type": "display_data"
    }
   ],
   "source": [
    "# now plot 'decade_mapping' with the y-axis labelled 'movies released'\n",
    "plot_dict(decade_mapping, label=\"movies released\")"
   ]
  },
  {
   "cell_type": "code",
   "execution_count": 32,
   "id": "d4d3766f",
   "metadata": {
    "deletable": false,
    "editable": false
   },
   "outputs": [
    {
     "data": {
      "text/html": [
       "<p><strong><pre style='display: inline;'>q6</pre></strong> passed!</p>"
      ],
      "text/plain": [
       "q6 results: All test cases passed!"
      ]
     },
     "execution_count": 32,
     "metadata": {},
     "output_type": "execute_result"
    }
   ],
   "source": [
    "grader.check(\"q6\")"
   ]
  },
  {
   "cell_type": "markdown",
   "id": "1b164db7",
   "metadata": {
    "deletable": false,
    "editable": false
   },
   "source": [
    "**Food for thought:** Can you explain the shape of this plot? Why do you think there was a dip between the decades `1931 to 1940` and `1941 to 1950`? Can you explain why the number of movies appears to plateau around `1991 to 2000` before increasing drastically? "
   ]
  },
  {
   "cell_type": "code",
   "execution_count": 33,
   "id": "e360292e",
   "metadata": {},
   "outputs": [],
   "source": [
    "# this is an entirely OPTIONAL exercise\n",
    "# you may leave your thoughts here as a comment if you wish to\n",
    "# Zhenya and Pranu's thoughts: It increases as time goes on; there was likely a dip due to WW2; there was a tech boom"
   ]
  },
  {
   "attachments": {
    "median_rating.PNG": {
     "image/png": "[encoded data removed]"
    }
   },
   "cell_type": "markdown",
   "id": "24bd74e0",
   "metadata": {
    "deletable": false,
    "editable": false
   },
   "source": [
    "**Question 7:** **Plot** the **median** `rating` of movies in each *genre* as a **bar graph**.\n",
    "\n",
    "You **must** first compute a **dictionary** which maps each **genre** to the **median** `rating` of all movies in that **genre**. Then, you may use `plot_dict` to plot the data in that dictionary.\n",
    "\n",
    "**Important Warning:** `p9_test.py` can check that the **dictionary** has the correct key/value pairs, but it **cannot** check if your plot appears on the screen, or whether the axes are correctly labelled. Your plots will be **manually graded**, and you will **lose points** if your plot is not visible, or if it is not properly labelled.\n",
    "\n",
    "Your plot should look like this:\n",
    "<div><img src=\"attachment:median_rating.PNG\" width=\"400\"/></div>"
   ]
  },
  {
   "cell_type": "code",
   "execution_count": 34,
   "id": "73025823",
   "metadata": {
    "tags": []
   },
   "outputs": [
    {
     "data": {
      "text/plain": [
       "{'Drama': 6.3,\n",
       " 'Horror': 5.0,\n",
       " 'Sport': 6.4,\n",
       " 'Family': 6.2,\n",
       " 'Comedy': 6.0,\n",
       " 'Adventure': 6.0,\n",
       " 'Thriller': 5.6,\n",
       " 'Crime': 6.1,\n",
       " 'Action': 5.8,\n",
       " 'Fantasy': 6.0,\n",
       " 'History': 6.7,\n",
       " 'Romance': 6.2,\n",
       " 'Biography': 6.8,\n",
       " 'Sci-Fi': 5.4,\n",
       " 'Mystery': 5.9,\n",
       " 'Documentary': 7.3,\n",
       " 'Western': 6.0,\n",
       " 'Musical': 6.2,\n",
       " 'Animation': 6.5,\n",
       " 'Music': 6.5,\n",
       " 'War': 6.5,\n",
       " 'News': 7.4,\n",
       " 'Film-Noir': 6.5,\n",
       " 'Short': 7.0,\n",
       " 'Reality-TV': 6.6,\n",
       " 'Game-Show': 3.3,\n",
       " 'Talk-Show': 2.8}"
      ]
     },
     "execution_count": 34,
     "metadata": {},
     "output_type": "execute_result"
    }
   ],
   "source": [
    "# first compute and store the dictionary in the variable 'median_genres', then display it\n",
    "genre_ratings = {}\n",
    "for genre in genre_buckets:\n",
    "    for movie in genre_buckets[genre]:\n",
    "        movie_rating = movie[\"rating\"]\n",
    "        if genre not in genre_ratings:\n",
    "            genre_ratings[genre] = []\n",
    "        genre_ratings[genre].append(movie_rating)\n",
    "\n",
    "median_genres = {}\n",
    "for genre in genre_ratings:\n",
    "    genre_median = median(genre_ratings[genre])\n",
    "    median_genres[genre] = genre_median\n",
    "\n",
    "median_genres"
   ]
  },
  {
   "cell_type": "code",
   "execution_count": 35,
   "id": "2c0fb7e2",
   "metadata": {
    "tags": []
   },
   "outputs": [
    {
     "data": {
      "image/png": "[encoded data removed]",
      "text/plain": [
       "<Figure size 432x288 with 1 Axes>"
      ]
     },
     "metadata": {
      "needs_background": "light"
     },
     "output_type": "display_data"
    }
   ],
   "source": [
    "# now plot 'median_genres' with the y-axis labelled 'median rating'\n",
    "plot_dict(median_genres, label=\"median rating\")"
   ]
  },
  {
   "cell_type": "code",
   "execution_count": 36,
   "id": "59c0ae5c",
   "metadata": {
    "deletable": false,
    "editable": false
   },
   "outputs": [
    {
     "data": {
      "text/html": [
       "<p><strong><pre style='display: inline;'>q7</pre></strong> passed!</p>"
      ],
      "text/plain": [
       "q7 results: All test cases passed!"
      ]
     },
     "execution_count": 36,
     "metadata": {},
     "output_type": "execute_result"
    }
   ],
   "source": [
    "grader.check(\"q7\")"
   ]
  },
  {
   "cell_type": "markdown",
   "id": "2aa0c1d6",
   "metadata": {
    "deletable": false,
    "editable": false
   },
   "source": [
    "**Food for thought:** Do you spot any outliers in this graph? Can you explain why they are such outliers?"
   ]
  },
  {
   "cell_type": "code",
   "execution_count": 37,
   "id": "3684ad97",
   "metadata": {},
   "outputs": [],
   "source": [
    "# this is an entirely OPTIONAL exercise\n",
    "# you may leave your thoughts here as a comment if you wish to\n"
   ]
  },
  {
   "cell_type": "markdown",
   "id": "bc38f48d",
   "metadata": {
    "deletable": false,
    "editable": false
   },
   "source": [
    "The visualization in q7 immediately tells us that the **median** *Documentary* movie is rated higher than the **median** *Crime* movie. However, it is a little hard to tell how the **median** *Action* movie fares against the **median** *Fantasy* movie. In order to compare the `genres`, it would be useful to **sort** the `genres` by their **median** `rating`."
   ]
  },
  {
   "cell_type": "markdown",
   "id": "3655d14b",
   "metadata": {
    "deletable": false,
    "editable": false
   },
   "source": [
    "**Question 8:** Produce a **list** of `genres` sorted in **decreasing order** of their **median** `rating`."
   ]
  },
  {
   "cell_type": "code",
   "execution_count": 38,
   "id": "2c38cc15",
   "metadata": {
    "tags": []
   },
   "outputs": [
    {
     "data": {
      "text/plain": [
       "['News',\n",
       " 'Documentary',\n",
       " 'Short',\n",
       " 'Biography',\n",
       " 'History',\n",
       " 'Reality-TV',\n",
       " 'Animation',\n",
       " 'Music',\n",
       " 'War',\n",
       " 'Film-Noir',\n",
       " 'Sport',\n",
       " 'Drama',\n",
       " 'Family',\n",
       " 'Romance',\n",
       " 'Musical',\n",
       " 'Crime',\n",
       " 'Comedy',\n",
       " 'Adventure',\n",
       " 'Fantasy',\n",
       " 'Western',\n",
       " 'Mystery',\n",
       " 'Action',\n",
       " 'Thriller',\n",
       " 'Sci-Fi',\n",
       " 'Horror',\n",
       " 'Game-Show',\n",
       " 'Talk-Show']"
      ]
     },
     "execution_count": 38,
     "metadata": {},
     "output_type": "execute_result"
    }
   ],
   "source": [
    "# compute and store the answer in the variable 'genres_desc', then display it\n",
    "genres_desc_dict = dict(sorted(median_genres.items(), key = lambda m:m[1], reverse = True))\n",
    "genres_desc = []\n",
    "\n",
    "for genre in genres_desc_dict:\n",
    "    genres_desc.append(genre)\n",
    "    \n",
    "genres_desc"
   ]
  },
  {
   "cell_type": "code",
   "execution_count": 39,
   "id": "75fb9c23",
   "metadata": {
    "deletable": false,
    "editable": false
   },
   "outputs": [
    {
     "data": {
      "text/html": [
       "<p><strong><pre style='display: inline;'>q8</pre></strong> passed!</p>"
      ],
      "text/plain": [
       "q8 results: All test cases passed!"
      ]
     },
     "execution_count": 39,
     "metadata": {},
     "output_type": "execute_result"
    }
   ],
   "source": [
    "grader.check(\"q8\")"
   ]
  },
  {
   "cell_type": "markdown",
   "id": "11239ffd",
   "metadata": {
    "deletable": false,
    "editable": false
   },
   "source": [
    "**Question 9:** Produce a **list** of *Animation* movies from the *Shrek* franchise sorted in **increasing** order of their `year` of release.\n",
    "\n",
    "Your output **must** be a **list** of **dictionaries** of movies having *Shrek* as a **substring** of the `title` and *Animation* as one of their `genres`, that are **sorted** in **increasing** order of their `year`."
   ]
  },
  {
   "cell_type": "code",
   "execution_count": 40,
   "id": "4d9ac7e9",
   "metadata": {
    "tags": []
   },
   "outputs": [
    {
     "data": {
      "text/plain": [
       "[{'title': 'Shrek',\n",
       "  'year': 2001,\n",
       "  'duration': 90,\n",
       "  'genres': ['Adventure', 'Animation', 'Comedy'],\n",
       "  'rating': 7.9,\n",
       "  'directors': ['Andrew Adamson', 'Vicky Jenson'],\n",
       "  'cast': ['Mike Myers', 'Eddie Murphy', 'Cameron Diaz', 'John Lithgow']},\n",
       " {'title': 'Shrek 2',\n",
       "  'year': 2004,\n",
       "  'duration': 93,\n",
       "  'genres': ['Adventure', 'Animation', 'Comedy'],\n",
       "  'rating': 7.3,\n",
       "  'directors': ['Andrew Adamson', 'Kelly Asbury', 'Conrad Vernon'],\n",
       "  'cast': ['Mike Myers', 'Eddie Murphy', 'Cameron Diaz', 'Julie Andrews']},\n",
       " {'title': 'Shrek the Third',\n",
       "  'year': 2007,\n",
       "  'duration': 93,\n",
       "  'genres': ['Adventure', 'Animation', 'Comedy'],\n",
       "  'rating': 6.1,\n",
       "  'directors': ['Chris Miller', 'Raman Hui'],\n",
       "  'cast': ['Mike Myers', 'Cameron Diaz', 'Eddie Murphy', 'Antonio Banderas']},\n",
       " {'title': 'Shrek Forever After',\n",
       "  'year': 2010,\n",
       "  'duration': 95,\n",
       "  'genres': ['Adventure', 'Animation', 'Comedy'],\n",
       "  'rating': 6.3,\n",
       "  'directors': ['Mike Mitchell'],\n",
       "  'cast': ['Mike Myers', 'Cameron Diaz', 'Eddie Murphy', 'Antonio Banderas']},\n",
       " {'title': 'Shrek 2 Retold',\n",
       "  'year': 2021,\n",
       "  'duration': 92,\n",
       "  'genres': ['Animation'],\n",
       "  'rating': 8.7,\n",
       "  'directors': ['Grant Duffrin', 'Conner Japikse'],\n",
       "  'cast': ['Adam Carbone', 'Bostweek Lewis', 'Nb']}]"
      ]
     },
     "execution_count": 40,
     "metadata": {},
     "output_type": "execute_result"
    }
   ],
   "source": [
    "# compute and store the answer in the variable 'shrek_inc', then display it\n",
    "shrek_movies = find_specific_movies(movies, \"Shrek\")\n",
    "shrek_animated = {}\n",
    "    \n",
    "for movie in genre_buckets[\"Animation\"]:\n",
    "    year = movie[\"year\"]\n",
    "    if movie in shrek_movies: \n",
    "        shrek_animated[year] = movie\n",
    "        \n",
    "sorted_shrek_movies = dict(sorted(shrek_animated.items(), key = lambda m:m))\n",
    "\n",
    "shrek_inc = []\n",
    "for year in sorted_shrek_movies:\n",
    "    shrek_inc.append(sorted_shrek_movies[year])\n",
    "    \n",
    "shrek_inc"
   ]
  },
  {
   "cell_type": "code",
   "execution_count": 41,
   "id": "655f9f8a",
   "metadata": {
    "deletable": false,
    "editable": false
   },
   "outputs": [
    {
     "data": {
      "text/html": [
       "<p><strong><pre style='display: inline;'>q9</pre></strong> passed!</p>"
      ],
      "text/plain": [
       "q9 results: All test cases passed!"
      ]
     },
     "execution_count": 41,
     "metadata": {},
     "output_type": "execute_result"
    }
   ],
   "source": [
    "grader.check(\"q9\")"
   ]
  },
  {
   "cell_type": "markdown",
   "id": "14e1c3d1",
   "metadata": {
    "deletable": false,
    "editable": false
   },
   "source": [
    "**Question 10:** Produce a **list** of `directors` who have directed movies in which *Denzel Washington* was `cast` in, **sorted** in **decreasing** order of the number of times they have worked with *Denzel Washington*.\n",
    "\n",
    "Your output **must** be a **list** of **strings** of the names of the `directors` who have directed movies in which *Denzel Washington* was a `cast` member, and the **list** should be sorted in **decreasing** order of the number of times that director has worked with *Denzel Washington*.\n",
    "\n",
    "**Hint:** If you use your `bucketize` function cleverly, you can easily organize the movies that *Denzel Washington* was `cast` in, by their director(s)."
   ]
  },
  {
   "cell_type": "code",
   "execution_count": 42,
   "id": "619ffde2",
   "metadata": {},
   "outputs": [
    {
     "data": {
      "text/plain": [
       "['Tony Scott',\n",
       " 'Antoine Fuqua',\n",
       " 'Edward Zwick',\n",
       " 'Carl Franklin',\n",
       " 'Jonathan Demme',\n",
       " 'Spike Lee',\n",
       " 'Penny Marshall',\n",
       " 'Ridley Scott',\n",
       " 'Mira Nair',\n",
       " 'Albert Hughes',\n",
       " 'Allen Hughes',\n",
       " 'John Scheinfeld',\n",
       " 'Gregory Hoblit',\n",
       " 'Norman Jewison',\n",
       " 'Carl Schenkel',\n",
       " 'Baltasar Kormákur',\n",
       " 'Robert Zemeckis',\n",
       " 'Joel Coen',\n",
       " 'Boaz Yakin',\n",
       " 'Phillip Noyce',\n",
       " 'Nick Cassavetes',\n",
       " 'Martin Stellman',\n",
       " 'Daniel Espinosa',\n",
       " 'Brett Leonard',\n",
       " 'Russell Mulcahy',\n",
       " 'James D. Parriott',\n",
       " 'Richard Attenborough',\n",
       " 'John Lee Hancock',\n",
       " 'Alan J. Pakula']"
      ]
     },
     "execution_count": 42,
     "metadata": {},
     "output_type": "execute_result"
    }
   ],
   "source": [
    "# compute and store the answer in the variable 'denzel_directors', then display it\n",
    "denzel_movies = find_specific_movies(movies, \"Denzel Washington\")\n",
    "denzel_movies_by_director = bucketize(denzel_movies, \"directors\")\n",
    "\n",
    "denzel_director_count = {}\n",
    "for director in denzel_movies_by_director:\n",
    "    movie_count = len(denzel_movies_by_director[director])\n",
    "    denzel_director_count[director] = movie_count\n",
    "    \n",
    "sorted_denzel_movies = dict(sorted(denzel_director_count.items(), key = lambda m:m[1], reverse=True))\n",
    "\n",
    "denzel_directors = []\n",
    "for director in sorted_denzel_movies:\n",
    "    if director != \"Denzel Washington\":\n",
    "        denzel_directors.append(director)\n",
    "        \n",
    "denzel_directors"
   ]
  },
  {
   "cell_type": "code",
   "execution_count": 43,
   "id": "63bc039c",
   "metadata": {
    "deletable": false,
    "editable": false
   },
   "outputs": [
    {
     "data": {
      "text/html": [
       "<p><strong><pre style='display: inline;'>q10</pre></strong> passed!</p>"
      ],
      "text/plain": [
       "q10 results: All test cases passed!"
      ]
     },
     "execution_count": 43,
     "metadata": {},
     "output_type": "execute_result"
    }
   ],
   "source": [
    "grader.check(\"q10\")"
   ]
  },
  {
   "cell_type": "markdown",
   "id": "06613bf4",
   "metadata": {
    "deletable": false,
    "editable": false
   },
   "source": [
    "## Submission\n",
    "Make sure you have run all cells in your notebook in order before running the following cells, so that all images/graphs appear in the output.\n",
    "It is recommended that at this stage, you Restart and Run all Cells in your notebook.\n",
    "That will automatically save your work and generate a zip file for you to submit.\n",
    "\n",
    "**SUBMISSION INSTRUCTIONS**:\n",
    "1. **Upload** the zipfile to Gradescope.\n",
    "2. Check **Gradescope otter** results as soon as the auto-grader execution gets completed. Don't worry about the score showing up as -/100.0. You only need to check that the test cases passed."
   ]
  },
  {
   "cell_type": "code",
   "execution_count": 44,
   "id": "c818f43f",
   "metadata": {
    "cell_type": "code",
    "deletable": false,
    "editable": false
   },
   "outputs": [
    {
     "data": {
      "application/javascript": [
       "IPython.notebook.save_checkpoint();"
      ],
      "text/plain": [
       "<IPython.core.display.Javascript object>"
      ]
     },
     "metadata": {},
     "output_type": "display_data"
    }
   ],
   "source": [
    "# running this cell will create a new save checkpoint for your notebook\n",
    "from IPython.display import display, Javascript\n",
    "display(Javascript('IPython.notebook.save_checkpoint();'))"
   ]
  },
  {
   "cell_type": "code",
   "execution_count": 45,
   "id": "6f532d70",
   "metadata": {
    "cell_type": "code",
    "deletable": false,
    "editable": false
   },
   "outputs": [
    {
     "name": "stdout",
     "output_type": "stream",
     "text": [
      "[jupytext] Reading p9.ipynb in format ipynb\n",
      "[jupytext] Writing p9.py\n"
     ]
    }
   ],
   "source": [
    "!jupytext --to py p9.ipynb"
   ]
  },
  {
   "cell_type": "code",
   "execution_count": 46,
   "id": "1f6243c1",
   "metadata": {
    "cell_type": "code",
    "deletable": false,
    "editable": false
   },
   "outputs": [
    {
     "name": "stdout",
     "output_type": "stream",
     "text": [
      "Running your submission against local test cases...\n",
      "\n",
      "Your submission received the following results when run against available test cases:\n",
      "\n",
      "    q1 results: All test cases passed!\n",
      "\n",
      "    q2 results: All test cases passed!\n",
      "\n",
      "    q3 results: All test cases passed!\n",
      "\n",
      "    q4 results: All test cases passed!\n",
      "\n",
      "    q5 results: All test cases passed!\n",
      "\n",
      "    q6 results: All test cases passed!\n",
      "\n",
      "    q7 results: All test cases passed!\n",
      "\n",
      "    q8 results: All test cases passed!\n",
      "\n",
      "    q9 results: All test cases passed!\n",
      "\n",
      "    q10 results: All test cases passed!\n"
     ]
    },
    {
     "data": {
      "text/html": [
       "\n",
       "            <p>Your submission has been exported. Click <a href=\"p9_2022_11_06T17_50_42_483602.zip\" download=\"p9_2022_11_06T17_50_42_483602.zip\" target=\"_blank\">here</a>\n",
       "            to download the zip file.</p>\n",
       "            "
      ],
      "text/plain": [
       "<IPython.core.display.HTML object>"
      ]
     },
     "metadata": {},
     "output_type": "display_data"
    }
   ],
   "source": [
    "p9_test.check_file_size(\"p9.ipynb\")\n",
    "grader.export(pdf=False, run_tests=True, files=[py_filename])"
   ]
  },
  {
   "cell_type": "markdown",
   "id": "13845e51",
   "metadata": {
    "deletable": false,
    "editable": false
   },
   "source": [
    " "
   ]
  }
 ],
 "metadata": {
  "kernelspec": {
   "display_name": "Python 3 (ipykernel)",
   "language": "python",
   "name": "python3"
  },
  "language_info": {
   "codemirror_mode": {
    "name": "ipython",
    "version": 3
   },
   "file_extension": ".py",
   "mimetype": "text/x-python",
   "name": "python",
   "nbconvert_exporter": "python",
   "pygments_lexer": "ipython3",
   "version": "3.9.12"
  },
  "otter": {
   "OK_FORMAT": true,
   "tests": {
    "q1": {
     "name": "q1",
     "points": 5,
     "suites": [
      {
       "cases": [
        {
         "code": ">>> p9_test.check(\"q1\", median_hp_rating)\nTrue",
         "hidden": false,
         "locked": false
        }
       ],
       "scored": true,
       "setup": "",
       "teardown": "",
       "type": "doctest"
      }
     ]
    },
    "q10": {
     "name": "q10",
     "points": 5,
     "suites": [
      {
       "cases": [
        {
         "code": ">>> p9_test.check(\"q10\", denzel_directors)\nTrue",
         "hidden": false,
         "locked": false
        }
       ],
       "scored": true,
       "setup": "",
       "teardown": "",
       "type": "doctest"
      }
     ]
    },
    "q2": {
     "name": "q2",
     "points": 5,
     "suites": [
      {
       "cases": [
        {
         "code": ">>> p9_test.check(\"q2\", highest_rated_avengers_movies)\nTrue",
         "hidden": false,
         "locked": false
        }
       ],
       "scored": true,
       "setup": "",
       "teardown": "",
       "type": "doctest"
      }
     ]
    },
    "q3": {
     "name": "q3",
     "points": 5,
     "suites": [
      {
       "cases": [
        {
         "code": ">>> p9_test.check(\"q3\", viola_movies)\nTrue",
         "hidden": false,
         "locked": false
        }
       ],
       "scored": true,
       "setup": "",
       "teardown": "",
       "type": "doctest"
      }
     ]
    },
    "q4": {
     "name": "q4",
     "points": 5,
     "suites": [
      {
       "cases": [
        {
         "code": ">>> p9_test.check(\"q4\", genre_num)\nTrue",
         "hidden": false,
         "locked": false
        }
       ],
       "scored": true,
       "setup": "",
       "teardown": "",
       "type": "doctest"
      }
     ]
    },
    "q5": {
     "name": "q5",
     "points": 5,
     "suites": [
      {
       "cases": [
        {
         "code": ">>> p9_test.check(\"q5\", kurosawa_genres)\nTrue",
         "hidden": false,
         "locked": false
        }
       ],
       "scored": true,
       "setup": "",
       "teardown": "",
       "type": "doctest"
      }
     ]
    },
    "q6": {
     "name": "q6",
     "points": 5,
     "suites": [
      {
       "cases": [
        {
         "code": ">>> p9_test.check(\"q6\", decade_mapping)\nTrue",
         "hidden": false,
         "locked": false
        }
       ],
       "scored": true,
       "setup": "",
       "teardown": "",
       "type": "doctest"
      }
     ]
    },
    "q7": {
     "name": "q7",
     "points": 5,
     "suites": [
      {
       "cases": [
        {
         "code": ">>> p9_test.check(\"q7\", median_genres)\nTrue",
         "hidden": false,
         "locked": false
        }
       ],
       "scored": true,
       "setup": "",
       "teardown": "",
       "type": "doctest"
      }
     ]
    },
    "q8": {
     "name": "q8",
     "points": 5,
     "suites": [
      {
       "cases": [
        {
         "code": ">>> p9_test.check(\"q8\", genres_desc)\nTrue",
         "hidden": false,
         "locked": false
        }
       ],
       "scored": true,
       "setup": "",
       "teardown": "",
       "type": "doctest"
      }
     ]
    },
    "q9": {
     "name": "q9",
     "points": 5,
     "suites": [
      {
       "cases": [
        {
         "code": ">>> p9_test.check(\"q9\", shrek_inc)\nTrue",
         "hidden": false,
         "locked": false
        }
       ],
       "scored": true,
       "setup": "",
       "teardown": "",
       "type": "doctest"
      }
     ]
    }
   }
  }
 },
 "nbformat": 4,
 "nbformat_minor": 5
}
